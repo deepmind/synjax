{
  "cells": [
    {
      "cell_type": "markdown",
      "metadata": {
        "id": "PGi4Sii9AeR2"
      },
      "source": [
        "These are some examples of distributions supported by SynJax. They are not exhaustive (there are distributions not shown here). For the detailed documentation see docstrings of each class dedicated to the distributions."
      ]
    },
    {
      "cell_type": "code",
      "execution_count": null,
      "metadata": {
        "colab": {
          "test": {
            "output": "ignore",
            "skip": false,
            "timeout": 300
          }
        },
        "id": "ozzWR2JKdGsA"
      },
      "outputs": [],
      "source": [
        "!pip install -qU matplotlib\n",
        "!pip install -qU git+https://github.com/deepmind/synjax.git"
      ]
    },
    {
      "cell_type": "code",
      "execution_count": null,
      "metadata": {
        "colab": {
          "test": {
            "output": "ignore",
            "skip": false,
            "timeout": 300
          }
        },
        "id": "ozzWR5JKdGsA"
      },
      "outputs": [],
      "source": [
        "import jax\n",
        "import jax.numpy as jnp\n",
        "import matplotlib.pyplot as plt\n",
        "\n",
        "import synjax"
      ]
    },
    {
      "cell_type": "code",
      "execution_count": null,
      "metadata": {
        "colab": {
          "test": {
            "output": "ignore",
            "skip": false,
            "timeout": 300
          }
        },
        "id": "h7RX_lTUgGBC"
      },
      "outputs": [],
      "source": [
        "def show(x, title):\n",
        "  plt.title(title)\n",
        "  plt.imshow(jnp.asarray(x))\n",
        "  plt.show()\n",
        "\n",
        "key = jax.random.PRNGKey(42)"
      ]
    },
    {
      "cell_type": "markdown",
      "metadata": {
        "id": "F_G1Vr40irWi"
      },
      "source": [
        "# Alignment CRF"
      ]
    },
    {
      "cell_type": "markdown",
      "metadata": {
        "id": "bvscSUMkN3u6"
      },
      "source": [
        "It is similar to String-Edit Distance CRF from McCallum et al (2005), but more powerful in some aspects because it can represent alignments with bigger diagonal jumps that are needed for distributions like CTC in case of blank symbols.\n",
        "  \n",
        "### References:\n",
        "\n",
        "* McCallum et al, 2005: https://people.cs.umass.edu/~mccallum/papers/crfstredit-uai05.pdf"
      ]
    },
    {
      "cell_type": "code",
      "execution_count": null,
      "metadata": {
        "colab": {
          "test": {
            "output": "ignore",
            "skip": false,
            "timeout": 300
          }
        },
        "id": "nj09DDVMdenY"
      },
      "outputs": [],
      "source": [
        "n = 10\n",
        "m = 20\n",
        "\n",
        "log_potentials = jax.random.normal(key, (n, m))\n",
        "dist = synjax.AlignmentCRF(log_potentials_horizontal=(log_potentials,),\n",
        "                           log_potentials_vertical=log_potentials)\n",
        "\n",
        "print(\"Entropy\", dist.entropy())\n",
        "print(\"Log-partition\", dist.log_partition())\n",
        "print(\"Log-count\", dist.log_count())\n",
        "\n",
        "show(dist.marginals(), \"marginals\")\n",
        "show(dist.argmax(), \"argmax\")\n",
        "show(dist.sample(key, 2).sum(0), \"sample_k\")\n",
        "show(dist.top_k(2)[0].sum(0), \"top_k\")"
      ]
    },
    {
      "cell_type": "markdown",
      "metadata": {
        "id": "HepL5RV1B4_t"
      },
      "source": [
        "# CTC"
      ]
    },
    {
      "cell_type": "markdown",
      "metadata": {
        "id": "5T5XhX81D9qk"
      },
      "source": [
        "Connectionist Temporal Classification (CTC) is often used in speech recognition where the alignment between the input (speech signal) and gold output (words) is not observed in the training data. The assumption of this model is that the alignment is monotone (no reorderings), which is clearly the case in speech recognition. CTC is a wrapper on top of Alignment CRF from above. SynJax implementation of CTC provides not only the computation of the loss but all other useful quantities like argmax (forced alignment), sampling of alignments etc.\n",
        "\n",
        "### References:\n",
        "\n",
        "* Graves et al, 2006: https://www.cs.toronto.edu/~graves/icml_2006.pdf\n",
        "* Hannun, 2017: https://distill.pub/2017/ctc/"
      ]
    },
    {
      "cell_type": "code",
      "execution_count": null,
      "metadata": {
        "id": "fBwVr77EA7Ji"
      },
      "outputs": [],
      "source": [
        "gold_label_n, prediction_n, voc = 4, 16, 8\n",
        "logits = jax.random.normal(key, (prediction_n, voc))\n",
        "gold_labels = jax.random.randint(key, (gold_label_n,), 0, voc)\n",
        "dist = synjax.CTC(log_potentials=logits, labels=gold_labels)\n",
        "show(dist.marginals(), \"marginals\")\n",
        "show(dist.argmax(), \"forced alignment\")\n",
        "show(dist.sample(key), \"sampled alignment\")\n",
        "print(\"CTC loss\", dist.loss())"
      ]
    },
    {
      "cell_type": "markdown",
      "metadata": {
        "id": "ETYJGC2qiauo"
      },
      "source": [
        "# Linear Chain CRF"
      ]
    },
    {
      "cell_type": "markdown",
      "metadata": {
        "id": "AzMBLBw_Qp_R"
      },
      "source": [
        "This is a general implementation of Linear Chain CRF that supports different transition matrices for each position. For introduction to Linear Chain CRF see Sutton and McCallum (2012).\n",
        "\n",
        "### References:\n",
        "\n",
        "* Lafferty et al, 2001: https://repository.upenn.edu/cgi/viewcontent.cgi?article=1162\u0026context=cis_papers\n",
        "* Sutton and McCallum, 2012: https://homepages.inf.ed.ac.uk/csutton/publications/crftutv2.pdf\n",
        "* Collins notes 2011 -- http://www.cs.columbia.edu/~mcollins/crf.pdf"
      ]
    },
    {
      "cell_type": "code",
      "execution_count": null,
      "metadata": {
        "colab": {
          "test": {
            "output": "ignore",
            "skip": false,
            "timeout": 300
          }
        },
        "id": "KRu5_2e-fKcI"
      },
      "outputs": [],
      "source": [
        "nt = 10\n",
        "n = 20\n",
        "\n",
        "log_potentials = jax.random.normal(key, (n, nt, nt))\n",
        "dist = synjax.LinearChainCRF(log_potentials)\n",
        "\n",
        "def show_chain(chain, title):\n",
        "  show(chain.sum(-2).T, title)\n",
        "\n",
        "show_chain(dist.marginals(), \"marginals\")\n",
        "show_chain(dist.argmax(), \"argmax\")\n",
        "show_chain(dist.sample(key, 2).sum((0)), \"samples\")"
      ]
    },
    {
      "cell_type": "markdown",
      "metadata": {
        "id": "_8tMVyLKOp7u"
      },
      "source": [
        "# HMM"
      ]
    },
    {
      "cell_type": "code",
      "execution_count": null,
      "metadata": {
        "id": "OPShRuIyOrkD"
      },
      "outputs": [],
      "source": [
        "n, states, voc = 10, 5, 30\n",
        "keys = jax.random.split(jax.random.PRNGKey(0), 4)\n",
        "dist = synjax.HMM(init_logits=jax.random.normal(keys[0], (states,)),\n",
        "                  transition_logits=jax.random.normal(keys[1], (states,states)),\n",
        "                  emission_dist=jax.random.normal(keys[2], (states, voc)),\n",
        "                  observations=jax.random.randint(keys[3], (n,), 0, voc))\n",
        "\n",
        "def show_chain(chain, title):\n",
        "  show(chain.sum(-2).T, title)\n",
        "\n",
        "show_chain(dist.marginals(), \"marginals\")\n",
        "show_chain(dist.argmax(), \"argmax\")\n",
        "show_chain(dist.sample(key, 2).sum((0)), \"samples\")"
      ]
    },
    {
      "cell_type": "markdown",
      "metadata": {
        "id": "fwJD5Xr9in7H"
      },
      "source": [
        "# Spanning Trees"
      ]
    },
    {
      "cell_type": "markdown",
      "metadata": {
        "id": "4mhl1KA0_yhG"
      },
      "source": [
        "All types of spanning trees are accessed trough `synjax.SpanningTreeCRF` class. Naturally, it takes (optionally batched) matrix of log-potentials, lengths per instance and flags that signify if the spanning tree is directed (it is an arborescence), if it is projective (used mostly in NLP) and if it it has only one root outgoing edge. Below are some examples of how different variations of spanning tree distribution could be instantiated."
      ]
    },
    {
      "cell_type": "markdown",
      "metadata": {
        "id": "8EZPkPqiki33"
      },
      "source": [
        "## Directed Non-Projective Dependency CRF"
      ]
    },
    {
      "cell_type": "code",
      "execution_count": null,
      "metadata": {
        "colab": {
          "test": {
            "output": "ignore",
            "skip": false,
            "timeout": 300
          }
        },
        "id": "3IdFdQ3LklrM"
      },
      "outputs": [],
      "source": [
        "n = 20\n",
        "\n",
        "log_potentials = jax.random.normal(key, (n, n))\n",
        "dist = synjax.SpanningTreeCRF(log_potentials, directed=True,\n",
        "                              projective=False, single_root=True)\n",
        "\n",
        "show(dist.marginals(), \"marginals\")\n",
        "# Line below may be slightly slower on first run because of Numba compilation.\n"
        "show(dist.argmax(), \"argmax\")\n",
        "show(dist.sample(key, 2).sum((0)), \"samples\")"
      ]
    },
    {
      "cell_type": "markdown",
      "metadata": {
        "id": "v1pyp53HvDcG"
      },
      "source": [
        "## Undirected Non-Projective Dependency CRF"
      ]
    },
    {
      "cell_type": "code",
      "execution_count": null,
      "metadata": {
        "colab": {
          "test": {
            "output": "ignore",
            "skip": false,
            "timeout": 300
          }
        },
        "id": "yu5FmWb4u0IU"
      },
      "outputs": [],
      "source": [
        "n = 20\n",
        "\n",
        "log_potentials = jax.random.normal(key, (n, n))\n",
        "dist = synjax.SpanningTreeCRF(log_potentials, directed=False,\n",
        "                              projective=False, single_root=True)\n",
        "\n",
        "show(dist.marginals(), \"marginals\")\n",
        "show(dist.argmax(), \"argmax\")\n",
        "show(dist.sample(key, 3).sum((0)), \"samples\")"
      ]
    },
    {
      "cell_type": "markdown",
      "metadata": {
        "id": "ZZgQ7kz4izom"
      },
      "source": [
        "## Directed Projective Dependencies CRF"
      ]
    },
    {
      "cell_type": "code",
      "execution_count": null,
      "metadata": {
        "colab": {
          "test": {
            "output": "ignore",
            "skip": false,
            "timeout": 300
          }
        },
        "id": "kOvo8XiehTZD"
      },
      "outputs": [],
      "source": [
        "n = 20\n",
        "\n",
        "log_potentials = jax.random.normal(jax.random.PRNGKey(0), (n, n))\n",
        "dist = synjax.SpanningTreeCRF(log_potentials, directed=True,\n",
        "                              projective=True, single_root=True)\n",
        "\n",
        "show(dist.marginals(), \"marginals\")\n",
        "show(dist.argmax(), \"argmax\")\n",
        "show(dist.sample(key, 3).sum((0)), \"samples\")"
      ]
    },
    {
      "cell_type": "markdown",
      "metadata": {
        "id": "_i2oTqvRjMt8"
      },
      "source": [
        "# Constituency Trees"
      ]
    },
    {
      "cell_type": "markdown",
      "metadata": {
        "id": "Driz7WVyimbK"
      },
      "source": [
        "## Tree CRF\n",
        "\n",
        "  The model structure is very similar to Stern et al (2017) except SynJax\n",
        "  additionally supports properly normalizing the distribution.\n",
        "\n",
        "### References:\n",
        "\n",
        "* Stern et al 2017 -- https://aclanthology.org/P17-1076.pdf"
      ]
    },
    {
      "cell_type": "code",
      "execution_count": null,
      "metadata": {
        "colab": {
          "test": {
            "output": "ignore",
            "skip": false,
            "timeout": 300
          }
        },
        "id": "ohjb1SyJd1me"
      },
      "outputs": [],
      "source": [
        "nt = 1\n",
        "n = 15\n",
        "\n",
        "log_potentials = jax.random.normal(key, (n, n, nt))\n",
        "dist = synjax.TreeCRF(log_potentials, lengths=None)\n",
        "\n",
        "show(dist.marginals().sum(-1), \"marginals\")\n",
        "show(dist.argmax().sum(-1), \"argmax\")\n",
        "show(dist.sample(key, 2).sum((0, -1)), \"samples\")\n",
        "show(dist.top_k(2)[0].sum((0, -1)), \"top_k\")"
      ]
    },
    {
      "cell_type": "markdown",
      "metadata": {
        "id": "MfxjHpNhjQdR"
      },
      "source": [
        "## PCFG\n",
        "\n",
        "  \n",
        "Note that this is a conditional PCFG, i.e. it is a distribution over trees\n",
        "provided by PCFG conditioned by a provided sentence. Because of that calling\n",
        "`dist.log_probability(tree)` returns a `p(tree | sentence; pcfg)`. To get a\n",
        "joint probability of a tree and a sentence `p(tree, sentence ; pcfg)` call\n",
        "`dist.unnormalized_log_probability(tree)`.\n"
      ]
    },
    {
      "cell_type": "code",
      "execution_count": null,
      "metadata": {
        "colab": {
          "test": {
            "output": "ignore",
            "skip": false,
            "timeout": 300
          }
        },
        "id": "2g3a74wTjRDd"
      },
      "outputs": [],
      "source": [
        "t, pt, n, voc = 4, 8, 10, 10\n",
        "\n",
        "normal = jax.random.normal\n",
        "keys = jax.random.split(jax.random.PRNGKey(0), 4)\n",
        "\n",
        "dist = synjax.PCFG(\n",
        "    root=normal(keys[0], (nt,)),\n",
        "    rule=normal(keys[1], (nt, nt+pt, nt+pt)),\n",
        "    emission=normal(keys[2], (pt, voc)),\n",
        "    word_ids = jax.random.randint(keys[3], (n,), 0, voc)\n",
        ")\n",
        "\n",
        "\n",
        "show(dist.marginals().chart.sum(-1), \"marginals\")\n",
        "show(dist.argmax().chart.sum(-1), \"argmax\")"
      ]
    },
    {
      "cell_type": "markdown",
      "metadata": {
        "id": "8r72o11UjR6U"
      },
      "source": [
        "## Tensor-Decomposition PCFG\n",
        "\n",
        "Cohen et al (2013) showed that PCFG with large number of non-terminals can be\n",
        "approximated using CPD tensor decomposition. Yang et al (2022) used this to\n",
        "do efficient grammar induction with large number of non-terminals and\n",
        "relatively small rank dimension. They avoid tensor-decomposition step by\n",
        "keeping all parameters always in the rank space and enforcing all decomposed\n",
        "rules to be normalized. Just like a regular PCFG implementation, the implementation of Tensor-Decomposition PCFG is also a conditional model for a given sentence.\n",
        "\n",
        "### References:\n",
        "\n",
        "* Yang et al, 2022 - Section 4.2: https://aclanthology.org/2022.naacl-main.353.pdf\n",
        "* Cohen et al, 2013 - Section 7.1: https://aclanthology.org/N13-1052.pdf#page=8"
      ]
    },
    {
      "cell_type": "code",
      "execution_count": null,
      "metadata": {
        "colab": {
          "test": {
            "output": "ignore",
            "skip": false,
            "timeout": 300
          }
        },
        "id": "5yPVXVhmjLCn"
      },
      "outputs": [],
      "source": [
        "nt, pt, n, voc, rank = 4, 8, 10, 10, 6\n",
        "\n",
        "normal = jax.random.normal\n",
        "keys = jax.random.split(jax.random.PRNGKey(0), 5)\n",
        "\n",
        "dist = synjax.TensorDecompositionPCFG(\n",
        "    root=normal(keys[0], (nt,)),\n",
        "    nt_to_rank=normal(keys[1], (nt, rank)),\n",
        "    rank_to_left_nt=normal(keys[2], (rank, nt+pt)),\n",
        "    rank_to_right_nt=normal(keys[3], (rank, nt+pt)),\n",
        "    emission=normal(keys[4], (pt, voc)),\n",
        "    word_ids = jax.random.randint(keys[4], (n,), 0, voc)\n",
        ")\n",
        "\n",
        "show(dist.marginals().chart.sum(-1), \"marginals\")\n",
        "show(dist.mbr(marginalize_labels=True).chart.sum(-1), \"MBR\")"
      ]
    },
    {
      "cell_type": "code",
      "execution_count": null,
      "metadata": {
        "colab": {
          "test": {
            "output": "ignore",
            "skip": false,
            "timeout": 300
          }
        },
        "id": "S-krHsAu73ul"
      },
      "outputs": [],
      "source": []
    }
  ],
  "metadata": {
    "colab": {
      "private_outputs": true,
      "provenance": [],
      "toc_visible": true
    },
    "kernelspec": {
      "display_name": "Python 3",
      "name": "python3"
    },
    "language_info": {
      "name": "python"
    }
  },
  "nbformat": 4,
  "nbformat_minor": 0
}
